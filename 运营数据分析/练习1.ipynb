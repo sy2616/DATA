{
 "cells": [
  {
   "cell_type": "code",
   "execution_count": 20,
   "metadata": {
    "collapsed": true,
    "pycharm": {
     "name": "#%%\n"
    }
   },
   "outputs": [
    {
     "data": {
      "text/plain": "    id     sex  level socro\n0  235     man  hight    22\n1  854  female    mid    65\n2  664     man  short    45",
      "text/html": "<div>\n<style scoped>\n    .dataframe tbody tr th:only-of-type {\n        vertical-align: middle;\n    }\n\n    .dataframe tbody tr th {\n        vertical-align: top;\n    }\n\n    .dataframe thead th {\n        text-align: right;\n    }\n</style>\n<table border=\"1\" class=\"dataframe\">\n  <thead>\n    <tr style=\"text-align: right;\">\n      <th></th>\n      <th>id</th>\n      <th>sex</th>\n      <th>level</th>\n      <th>socro</th>\n    </tr>\n  </thead>\n  <tbody>\n    <tr>\n      <th>0</th>\n      <td>235</td>\n      <td>man</td>\n      <td>hight</td>\n      <td>22</td>\n    </tr>\n    <tr>\n      <th>1</th>\n      <td>854</td>\n      <td>female</td>\n      <td>mid</td>\n      <td>65</td>\n    </tr>\n    <tr>\n      <th>2</th>\n      <td>664</td>\n      <td>man</td>\n      <td>short</td>\n      <td>45</td>\n    </tr>\n  </tbody>\n</table>\n</div>"
     },
     "execution_count": 20,
     "metadata": {},
     "output_type": "execute_result"
    }
   ],
   "source": [
    "import pandas as pd\n",
    "from sklearn.preprocessing import OneHotEncoder,LabelEncoder\n",
    "df=pd.DataFrame({'id':[235,854,664],'sex':['man','female','man'],'level':['hight','mid','short'],\n",
    "                 'socro':['22','65','45']})\n",
    "df"
   ]
  },
  {
   "cell_type": "code",
   "execution_count": 21,
   "outputs": [
    {
     "name": "stdout",
     "output_type": "stream",
     "text": [
      "    id     sex  level socro\n",
      "0  235     man  hight    22\n",
      "1  854  female    mid    65\n",
      "2  664     man  short    45\n"
     ]
    }
   ],
   "source": [
    "print(df)"
   ],
   "metadata": {
    "collapsed": false,
    "pycharm": {
     "name": "#%%\n"
    }
   }
  },
  {
   "cell_type": "code",
   "execution_count": 22,
   "outputs": [
    {
     "name": "stdout",
     "output_type": "stream",
     "text": [
      "      sex  level socro\n",
      "0     man  hight    22\n",
      "1  female    mid    65\n",
      "2     man  short    45\n"
     ]
    }
   ],
   "source": [
    "id_data=df[['id']]\n",
    "raw_convert_data=df.iloc[:,1:]\n",
    "print(raw_convert_data)\n",
    "# model"
   ],
   "metadata": {
    "collapsed": false,
    "pycharm": {
     "name": "#%%\n"
    }
   }
  },
  {
   "cell_type": "code",
   "execution_count": 23,
   "outputs": [
    {
     "name": "stdout",
     "output_type": "stream",
     "text": [
      "    id    0    1    2    3    4    5    6    7\n",
      "0  235  0.0  1.0  1.0  0.0  0.0  1.0  0.0  0.0\n",
      "1  854  1.0  0.0  0.0  1.0  0.0  0.0  0.0  1.0\n",
      "2  664  0.0  1.0  0.0  0.0  1.0  0.0  1.0  0.0\n"
     ]
    }
   ],
   "source": [
    "model=OneHotEncoder(sparse=False)\n",
    "a=model.fit_transform(raw_convert_data)\n",
    "#在该过程中，先建立一个LabelEncoder对象model_LabelEncoder，然后使用model_Label-Encoder做fit_transform转换，转换后的值直接替换上一步创建的副本transform_data_copy，然后使用toarray方法输出为矩阵\n",
    "new_data=pd.concat((id_data,pd.DataFrame(a)),axis=1)\n",
    "new_data\n",
    "print(new_data)\n"
   ],
   "metadata": {
    "collapsed": false,
    "pycharm": {
     "name": "#%%\n"
    }
   }
  },
  {
   "cell_type": "code",
   "execution_count": 24,
   "outputs": [
    {
     "name": "stdout",
     "output_type": "stream",
     "text": [
      "    id  sex_female  sex_man  level_hight  level_mid  level_short  socro_22  \\\n",
      "0  235           0        1            1          0            0         1   \n",
      "1  854           1        0            0          1            0         0   \n",
      "2  664           0        1            0          0            1         0   \n",
      "\n",
      "   socro_45  socro_65  \n",
      "0         0         0  \n",
      "1         0         1  \n",
      "2         1         0  \n"
     ]
    }
   ],
   "source": [
    "de_new=pd.get_dummies(raw_convert_data)\n",
    "new_2=pd.concat((id_data,pd.DataFrame(de_new)),axis=1)\n",
    "print(new_2)\n"
   ],
   "metadata": {
    "collapsed": false,
    "pycharm": {
     "name": "#%%\n"
    }
   }
  }
 ],
 "metadata": {
  "kernelspec": {
   "display_name": "Python 3",
   "language": "python",
   "name": "python3"
  },
  "language_info": {
   "codemirror_mode": {
    "name": "ipython",
    "version": 2
   },
   "file_extension": ".py",
   "mimetype": "text/x-python",
   "name": "python",
   "nbconvert_exporter": "python",
   "pygments_lexer": "ipython2",
   "version": "2.7.6"
  }
 },
 "nbformat": 4,
 "nbformat_minor": 0
}